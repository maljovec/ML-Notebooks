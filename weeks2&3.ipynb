{
 "cells": [
  {
   "cell_type": "markdown",
   "metadata": {
    "ExecuteTime": {
     "end_time": "2018-01-26T07:41:29.065384Z",
     "start_time": "2018-01-26T07:41:29.042493Z"
    }
   },
   "source": [
    "# Multivariate Linear and Logistic Regression with Regularization"
   ]
  },
  {
   "cell_type": "markdown",
   "metadata": {},
   "source": [
    "## Terminology & Symbols"
   ]
  },
  {
   "cell_type": "markdown",
   "metadata": {
    "ExecuteTime": {
     "end_time": "2018-01-26T08:14:42.777365Z",
     "start_time": "2018-01-26T08:14:42.752932Z"
    }
   },
   "source": [
    " * Training size (<span style=\"color:#C63\">$m$</span>) - The number of samples we can use for learning\n",
    " * Dimensionality (<span style=\"color:#C63\">$d$</span>) - The number of dimensions in the input (feature) space\n",
    " * Feature set (<span style=\"color:#C63\">$X$</span>) - An $m \\times d$ matrix where every row represents a single feature vector\n",
    " * Target (<span style=\"color:#C63\">$y$</span>) - An $m$-vector representing the value we are trying to predict\n",
    " * Training set (<span style=\"color:#C63\">$(X,y)$</span>) - The combined matrix of inputs and their associated known target values\n",
    " * Test set - An optional set of hold out data used for validation\n",
    "\n",
    " * Feature weights (<span style=\"color:#C63\">$\\theta$</span>) - the free variables in our modeling\n",
    " * Hypothesis function (<span style=\"color:#C63\">$h_{\\theta}(x)$</span>) - the function/model we are trying to learn by manipulating $\\theta$\n",
    " * Loss Function (<span style=\"color:#C63\">$J(\\theta)$</span>) - the \"error\" introduced by our method (What we want to minimize)"
   ]
  },
  {
   "cell_type": "markdown",
   "metadata": {
    "heading_collapsed": true
   },
   "source": [
    "## Motivating Problems"
   ]
  },
  {
   "cell_type": "markdown",
   "metadata": {
    "heading_collapsed": true,
    "hidden": true
   },
   "source": [
    "### Regression"
   ]
  },
  {
   "cell_type": "code",
   "execution_count": 348,
   "metadata": {
    "ExecuteTime": {
     "end_time": "2018-01-26T18:38:12.232891Z",
     "start_time": "2018-01-26T18:38:12.010170Z"
    },
    "hidden": true
   },
   "outputs": [
    {
     "data": {
      "text/plain": [
       "<matplotlib.legend.Legend at 0x7f5ec5eb5cf8>"
      ]
     },
     "execution_count": 348,
     "metadata": {},
     "output_type": "execute_result"
    },
    {
     "data": {
      "image/png": "[encoded data removed]",
      "text/plain": [
       "<matplotlib.figure.Figure at 0x7f5ec5eb54a8>"
      ]
     },
     "metadata": {},
     "output_type": "display_data"
    }
   ],
   "source": [
    "import numpy as np\n",
    "import matplotlib.pyplot as plt\n",
    "\n",
    "rng = np.random.RandomState(7)\n",
    "\n",
    "## Setup training data\n",
    "def f(x):\n",
    "    \"\"\" Magic ground truth function \"\"\"\n",
    "    return 5./7. *((np.pi)**2 - (np.pi)**2 + - 0 * 4 +  x * np.sin(x) + 2*(rng.rand(len(x))-0.5))\n",
    "\n",
    "# generate full validation set of points\n",
    "X = np.linspace(0, 10, 100)\n",
    "\n",
    "# select a subset to act as the training data\n",
    "rng.shuffle(X)\n",
    "train_X = np.sort(X[:20])\n",
    "train_y = f(train_X)\n",
    "validation_y = f(X)\n",
    "\n",
    "X = np.sort(X)[:, np.newaxis]\n",
    "train_X = train_X[:, np.newaxis]\n",
    "train_y = np.atleast_2d(train_y).T\n",
    "\n",
    "## Plot the training data\n",
    "plt.scatter(train_X, train_y, color='navy', s=30, marker='o', label=\"training data\")\n",
    "plt.legend(loc='lower left')\n",
    "\n"
   ]
  },
  {
   "cell_type": "markdown",
   "metadata": {
    "heading_collapsed": true,
    "hidden": true
   },
   "source": [
    "### Classification"
   ]
  },
  {
   "cell_type": "code",
   "execution_count": 352,
   "metadata": {
    "ExecuteTime": {
     "end_time": "2018-01-26T18:38:46.748157Z",
     "start_time": "2018-01-26T18:38:46.568223Z"
    },
    "hidden": true
   },
   "outputs": [
    {
     "data": {
      "image/png": "[encoded data removed]",
      "text/plain": [
       "<matplotlib.figure.Figure at 0x7f5ec5db9940>"
      ]
     },
     "metadata": {},
     "output_type": "display_data"
    }
   ],
   "source": [
    "## Threshold the regression data\n",
    "threshold = 3**2\n",
    "radius_squared = (train_y)**2 + (train_X-5)**2\n",
    "idxs1 = np.where(radius_squared > threshold)\n",
    "idxs2 = np.where(radius_squared <= threshold)\n",
    "\n",
    "## Plot the training data\n",
    "plt.scatter(train_X[idxs1], train_y[idxs1], color='navy', s=30, marker='x', label=\"class 1\")\n",
    "plt.scatter(train_X[idxs2], train_y[idxs2], color='orange', s=30, marker='o', label=\"class 2\")\n",
    "plt.legend(loc='upper left')\n",
    "plt.show()"
   ]
  },
  {
   "cell_type": "markdown",
   "metadata": {},
   "source": [
    "## Linear Regression"
   ]
  },
  {
   "cell_type": "markdown",
   "metadata": {},
   "source": [
    "### Univariate Linear Regression"
   ]
  },
  {
   "cell_type": "code",
   "execution_count": 212,
   "metadata": {
    "ExecuteTime": {
     "end_time": "2018-01-26T17:24:17.461280Z",
     "start_time": "2018-01-26T17:24:17.146499Z"
    }
   },
   "outputs": [
    {
     "data": {
      "text/plain": [
       "[<matplotlib.lines.Line2D at 0x7f5ec79ab978>]"
      ]
     },
     "execution_count": 212,
     "metadata": {},
     "output_type": "execute_result"
    },
    {
     "data": {
      "image/png": "[encoded data removed]",
      "text/plain": [
       "<matplotlib.figure.Figure at 0x7f5ec7ebbeb8>"
      ]
     },
     "metadata": {},
     "output_type": "display_data"
    }
   ],
   "source": [
    "from sklearn.linear_model import LinearRegression\n",
    "\n",
    "model = LinearRegression()\n",
    "model.fit(train_X, train_y)\n",
    "y = model.predict(X)\n",
    "plt.scatter(train_X, train_y, color='navy', s=30, marker='o', label=\"training data\")\n",
    "plt.plot(X, y, color='teal', linewidth=lw, label=\"degree %d\" % degree)"
   ]
  },
  {
   "cell_type": "markdown",
   "metadata": {},
   "source": [
    "Given a training set consisting of one feature, $x$, and one target, $y$, we want to generate a hypothesis $h$ about the linear relationship between $x$ and $y$:\n",
    "\n",
    "$y \\approx h(x) = a + bx$\n",
    "\n",
    "The bias ($a$) and feature weight ($b$) can be rolled into a single weight vector i.e., $\\mathbf{\\theta} = \\begin{bmatrix} a \\\\ b\\end{bmatrix}$:\n",
    "\n",
    "$h_{\\theta}(x) = \\theta_0 + \\theta_1 x$\n",
    "\n",
    "In vector notation (we implicitly prepend a 1 to every x i.e., $\\mathbf{x} = \\begin{bmatrix} 1 \\\\ x\\end{bmatrix}$):\n",
    "\n",
    "$h_{\\theta}(x) = \\mathbf{\\theta}^T\\mathbf{x}$\n",
    "\n",
    "One evaluation metric of the quality of fit is by looking at the **cumulative** squared error/residual:\n",
    "\n",
    "$J(\\theta) = \\sum_{i=1}^{m}(h_{\\theta}(x_i) - y_i)^2$\n",
    "\n",
    "By minimizing $J$, we get the \"best\" model. I could make this an average by adding a $\\frac{1}{m}$ out front, but it should be clear that this has no effect on where in weight space the minimum lies (it only squashes or stretches $J(\\theta)$."
   ]
  },
  {
   "cell_type": "code",
   "execution_count": 263,
   "metadata": {
    "ExecuteTime": {
     "end_time": "2018-01-26T17:46:08.297330Z",
     "start_time": "2018-01-26T17:46:07.890931Z"
    }
   },
   "outputs": [
    {
     "name": "stdout",
     "output_type": "stream",
     "text": [
      "[[ 0.00880092]\n",
      " [ 0.25760272]]\n"
     ]
    },
    {
     "data": {
      "text/plain": [
       "[<matplotlib.lines.Line2D at 0x7f5ec70bd358>]"
      ]
     },
     "execution_count": 263,
     "metadata": {},
     "output_type": "execute_result"
    },
    {
     "data": {
      "image/png": "[encoded data removed]",
      "text/plain": [
       "<matplotlib.figure.Figure at 0x7f5ec70bd6d8>"
      ]
     },
     "metadata": {},
     "output_type": "display_data"
    }
   ],
   "source": [
    "def compute_cost(X, y, theta):\n",
    "    m = y.shape[1]\n",
    "    J = np.sum((X.dot(theta)-y.T)**2)/2/m\n",
    "    return J\n",
    "\n",
    "def gradient_descent(X, y, theta, alpha, iterations=100):\n",
    "    X = np.atleast_2d(X)\n",
    "    y = np.atleast_2d(y)\n",
    "    theta = np.atleast_2d(theta)\n",
    "    m = y.shape[1]\n",
    "    J_history = np.zeros(iterations)\n",
    "    \n",
    "    for i in range(iterations):        \n",
    "        H = X.dot(theta)\n",
    "        loss = H - y.T\n",
    "        gradient = X.T.dot(loss) / m\n",
    "        \n",
    "        theta = theta - alpha * gradient\n",
    "        J_history[i] = compute_cost(X, y, theta)\n",
    "                                \n",
    "    return theta, J_history\n",
    "\n",
    "##add bias\n",
    "train_X_bias = np.hstack((np.ones((train_X.shape[0], 1)), train_X))\n",
    "validation_X = np.hstack((np.ones((X.shape[0], 1)), X))\n",
    "\n",
    "initial_theta = np.zeros((train_X_bias.shape[1],1))\n",
    "final_theta, J_history = gradient_descent(train_X_bias, train_y, initial_theta, 0.01, 20)\n",
    "print(final_theta)\n",
    "y_predict = np.dot(validation_X,final_theta)\n",
    "plt.scatter(train_X, train_y, color='navy', s=30, marker='o', label=\"training data\")\n",
    "plt.plot(X, y_predict, color='teal', linewidth=lw)"
   ]
  },
  {
   "cell_type": "code",
   "execution_count": 264,
   "metadata": {
    "ExecuteTime": {
     "end_time": "2018-01-26T17:46:11.965043Z",
     "start_time": "2018-01-26T17:46:11.663487Z"
    }
   },
   "outputs": [
    {
     "data": {
      "text/plain": [
       "[<matplotlib.lines.Line2D at 0x7f5ec6f31d68>]"
      ]
     },
     "execution_count": 264,
     "metadata": {},
     "output_type": "execute_result"
    },
    {
     "data": {
      "image/png": "[encoded data removed]",
      "text/plain": [
       "<matplotlib.figure.Figure at 0x7f5ec6fed6d8>"
      ]
     },
     "metadata": {},
     "output_type": "display_data"
    }
   ],
   "source": [
    "plt.plot(range(len(J_history)), J_history)"
   ]
  },
  {
   "cell_type": "markdown",
   "metadata": {
    "ExecuteTime": {
     "end_time": "2018-01-26T07:44:44.280738Z",
     "start_time": "2018-01-26T07:44:44.278042Z"
    }
   },
   "source": [
    "### Multivariate Linear Regression"
   ]
  },
  {
   "cell_type": "code",
   "execution_count": 94,
   "metadata": {
    "ExecuteTime": {
     "end_time": "2018-01-26T16:13:46.978262Z",
     "start_time": "2018-01-26T16:13:46.633698Z"
    }
   },
   "outputs": [
    {
     "data": {
      "text/plain": [
       "(-10, 10)"
      ]
     },
     "execution_count": 94,
     "metadata": {},
     "output_type": "execute_result"
    },
    {
     "data": {
      "image/png": "[encoded data removed]",
      "text/plain": [
       "<matplotlib.figure.Figure at 0x7f5ec7f50128>"
      ]
     },
     "metadata": {},
     "output_type": "display_data"
    }
   ],
   "source": [
    "from sklearn.preprocessing import PolynomialFeatures\n",
    "degree = 25\n",
    "model = make_pipeline(PolynomialFeatures(degree), LinearRegression())\n",
    "model.fit(train_X, train_y)\n",
    "y = model.predict(X)\n",
    "plt.scatter(train_X, train_y, color='navy', s=30, marker='o', label=\"training data\")\n",
    "plt.plot(X, y, color='yellowgreen', linewidth=lw, label=\"degree %d\" % degree)\n",
    "plt.gca().set_ylim(-10,10)"
   ]
  },
  {
   "cell_type": "markdown",
   "metadata": {},
   "source": [
    "Note, these last two equations do not specify the dimensionality ($d$) of $\\theta$ and $x$:\n",
    "\n",
    "$h_{\\theta}(x) = \\mathbf{\\theta}^T\\mathbf{x}$\n",
    "\n",
    "$J(\\theta) = \\sum_{i=1}^{m}(h_{\\theta}(\\mathbf{x_i}) - y_i)^2$\n",
    "\n",
    "We can adapt our original test case just by adding new parameters: $\\mathbf{x} = \\begin{bmatrix} 1 \\\\ x \\\\ x^2 \\\\ x^3 \\\\ x^4 \\end{bmatrix}$\n",
    "\n",
    "The optimum lies where the gradient is zero, we can get there two ways:\n",
    "\n",
    " 1. Solving the equation analytically\n",
    " 2. Solving the equation numerically through iteration"
   ]
  },
  {
   "cell_type": "markdown",
   "metadata": {},
   "source": [
    "#### Closed Form Solution of Ordinary Least Squares"
   ]
  },
  {
   "cell_type": "markdown",
   "metadata": {},
   "source": [
    "$J(\\theta) = \\sum_{i=1}^{m}(h_{\\theta}(x_i) - y_i)^2$\n",
    "\n",
    "$J(\\theta) = \\sum_{i=1}^{m}(\\theta^Tx_i - y_i)^2$\n",
    "\n",
    "The optimum occurs where the gradient is zero:\n",
    "\n",
    "\\begin{align}\n",
    "\\frac{d J(\\theta)}{d\\mathbf{\\theta}} & = 0 \\\\\n",
    "2 \\sum_{i=1}^{m}\\left[\\theta^Tx_i - y_i)x_i\\right] & = 0 \\\\\n",
    "\\sum_{i=1}^{m}\\left[(\\theta^Tx_i)x_i - y_ix_i\\right] & = 0 \\\\\n",
    "\\sum_{i=1}^{m}(\\theta^Tx_i)x_i & = \\sum_{i=1}^{m}y_ix_i \\\\\n",
    "\\sum_{i=1}^{m}(x_ix_i^T)\\theta & = \\sum_{i=1}^{m}y_ix_i \\\\\n",
    "\\end{align}\n",
    "\n",
    "Let $A = \\sum_{i=1}^{m}(x_ix_i^T) = \\mathbf{X}^T \\mathbf{X}$\n",
    "\n",
    "$b=\\sum_{i=1}^{m}y_ix_i$ = $\\mathbf{X}^T\\mathbf{y}$\n",
    "\n",
    "\\begin{align}\n",
    "A\\theta & = b \\\\\n",
    "\\theta & = A^{-1}b \\\\\n",
    "\\theta & = (\\mathbf{X}^T \\mathbf{X})^{-1}\\mathbf{X}^T\\mathbf{y} \\\\\n",
    "\\end{align}\n",
    "\n",
    "Note, we are inverting $\\mathbf{X}^T \\mathbf{X}$ which is $m \\times m$, i.e., big with lots of data.\n"
   ]
  },
  {
   "cell_type": "markdown",
   "metadata": {},
   "source": [
    "#### Gradient Descent"
   ]
  },
  {
   "cell_type": "markdown",
   "metadata": {},
   "source": [
    "Recall:\n",
    "\n",
    "$\\frac{d J(\\theta)}{d\\theta_j} = 2 \\sum_{i=1}^{m}\\left[\\theta^Tx_i - y_i)x_{i,j}\\right]$\n",
    "\n",
    "Represents the gradient of the cost function, so if we want to minimize this, we follow its negative direction.\n",
    "\n",
    "Algorithm:\n",
    "\n",
    "> Initialize $\\theta_j = \\mathbf{0}$ <br>\n",
    "> Repeat { <br>\n",
    ">> $\\theta_j = \\theta_j - \\alpha\\left(\\sum_{i=1}^{m}\\left[(\\theta^Tx_i - y_i)x_{i,j}\\right]\\right)$ <br>\n",
    "\n",
    "> } <br>\n",
    "\n",
    "We saw last week the benefits of stochastic gradient descent where we don't have to use the whole dataset each time to do the update."
   ]
  },
  {
   "cell_type": "markdown",
   "metadata": {},
   "source": [
    "## Feature Scaling"
   ]
  },
  {
   "cell_type": "markdown",
   "metadata": {
    "heading_collapsed": true
   },
   "source": [
    "### Why?"
   ]
  },
  {
   "cell_type": "markdown",
   "metadata": {
    "hidden": true
   },
   "source": [
    "Varied dimension \"widths\" will pull the gradient descent algorithm in wider directions."
   ]
  },
  {
   "cell_type": "markdown",
   "metadata": {
    "heading_collapsed": true
   },
   "source": [
    "### How?"
   ]
  },
  {
   "cell_type": "markdown",
   "metadata": {
    "hidden": true
   },
   "source": [
    " * Range scaling $\\left(\\frac{x - x_{min}}{x_{max}- x_{min}}\\right)$\n",
    " * Z-Score scaling $\\left(\\frac{x - \\mu}{\\sigma}\\right)$"
   ]
  },
  {
   "cell_type": "markdown",
   "metadata": {
    "heading_collapsed": true
   },
   "source": [
    "## Learning Rate"
   ]
  },
  {
   "cell_type": "markdown",
   "metadata": {
    "hidden": true
   },
   "source": [
    "plot # of iterations vs. cost function"
   ]
  },
  {
   "cell_type": "markdown",
   "metadata": {},
   "source": [
    "## Regularization"
   ]
  },
  {
   "cell_type": "markdown",
   "metadata": {
    "ExecuteTime": {
     "end_time": "2018-01-26T19:45:09.868467Z",
     "start_time": "2018-01-26T19:45:09.863617Z"
    }
   },
   "source": [
    "$J(\\theta) = \\sum_{i=1}^{m}(h_{\\theta}(\\mathbf{x_i}) - y_i)^2 + p(\\theta)$"
   ]
  },
  {
   "cell_type": "markdown",
   "metadata": {
    "ExecuteTime": {
     "end_time": "2018-01-26T07:45:53.137229Z",
     "start_time": "2018-01-26T07:45:53.134808Z"
    }
   },
   "source": [
    "### Ridge Regularization"
   ]
  },
  {
   "cell_type": "markdown",
   "metadata": {},
   "source": [
    " * $L_2$ penalty term\n",
    " * Tikhonov Regularization\n",
    " \n",
    " $p(\\theta) = \\lambda \\sum_{i=1}^{m}\\theta_i^2$\n",
    " \n",
    " "
   ]
  },
  {
   "cell_type": "code",
   "execution_count": 87,
   "metadata": {
    "ExecuteTime": {
     "end_time": "2018-01-26T16:08:31.585649Z",
     "start_time": "2018-01-26T16:08:31.254583Z"
    }
   },
   "outputs": [
    {
     "name": "stderr",
     "output_type": "stream",
     "text": [
      "/home/maljovec/.local/lib/python3.5/site-packages/sklearn/linear_model/ridge.py:154: UserWarning: Singular matrix in solving dual problem. Using least-squares solution instead.\n",
      "  warnings.warn(\"Singular matrix in solving dual problem. Using \"\n"
     ]
    },
    {
     "data": {
      "text/plain": [
       "(-10, 10)"
      ]
     },
     "execution_count": 87,
     "metadata": {},
     "output_type": "execute_result"
    },
    {
     "data": {
      "image/png": "[encoded data removed]",
      "text/plain": [
       "<matplotlib.figure.Figure at 0x7f5ec7fe95f8>"
      ]
     },
     "metadata": {},
     "output_type": "display_data"
    }
   ],
   "source": [
    "from sklearn.linear_model import Ridge\n",
    "degree = 25\n",
    "model = make_pipeline(PolynomialFeatures(degree), Ridge())\n",
    "model.fit(train_X, train_y)\n",
    "y = model.predict(X)\n",
    "plt.scatter(train_X, train_y, color='navy', s=30, marker='o', label=\"training data\")\n",
    "plt.plot(X, y, color='gold', linewidth=lw, label=\"degree %d\" % degree)\n",
    "plt.gca().set_ylim(-10,10)"
   ]
  },
  {
   "cell_type": "markdown",
   "metadata": {
    "ExecuteTime": {
     "end_time": "2018-01-26T07:46:19.598739Z",
     "start_time": "2018-01-26T07:46:19.596539Z"
    }
   },
   "source": [
    "### LASSO Regularization"
   ]
  },
  {
   "cell_type": "markdown",
   "metadata": {},
   "source": [
    " * $L_1$ penalty term\n",
    " * Reduces number of dimensions\n",
    " * Good for feature selection\n",
    " \n",
    " $p(\\theta) = \\lambda \\sum_{i=1}^{m}|\\theta_i|$\n",
    " "
   ]
  },
  {
   "cell_type": "code",
   "execution_count": 376,
   "metadata": {
    "ExecuteTime": {
     "end_time": "2018-01-26T20:42:00.773627Z",
     "start_time": "2018-01-26T20:42:00.507883Z"
    }
   },
   "outputs": [
    {
     "name": "stderr",
     "output_type": "stream",
     "text": [
      "/home/maljovec/.local/lib/python3.5/site-packages/sklearn/linear_model/coordinate_descent.py:477: RuntimeWarning: overflow encountered in square\n",
      "  positive)\n",
      "/home/maljovec/.local/lib/python3.5/site-packages/sklearn/linear_model/coordinate_descent.py:491: ConvergenceWarning: Objective did not converge. You might want to increase the number of iterations. Fitting data with very small alpha may cause precision problems.\n",
      "  ConvergenceWarning)\n"
     ]
    },
    {
     "data": {
      "text/plain": [
       "(-10, 10)"
      ]
     },
     "execution_count": 376,
     "metadata": {},
     "output_type": "execute_result"
    },
    {
     "data": {
      "image/png": "[encoded data removed]",
      "text/plain": [
       "<matplotlib.figure.Figure at 0x7f5ec5856390>"
      ]
     },
     "metadata": {},
     "output_type": "display_data"
    }
   ],
   "source": [
    "from sklearn.linear_model import Lasso\n",
    "degree = 300\n",
    "model = make_pipeline(PolynomialFeatures(degree), Lasso())\n",
    "model.fit(train_X, train_y)\n",
    "y = model.predict(X)\n",
    "plt.scatter(train_X, train_y, color='navy', s=30, marker='o', label=\"training data\")\n",
    "plt.plot(X, y, color='darkorange', linewidth=lw, label=\"degree %d\" % degree)\n",
    "plt.gca().set_ylim(-10,10)"
   ]
  },
  {
   "cell_type": "markdown",
   "metadata": {
    "ExecuteTime": {
     "end_time": "2018-01-26T07:46:43.501866Z",
     "start_time": "2018-01-26T07:46:43.498849Z"
    }
   },
   "source": [
    "### Elastic Net Regularization"
   ]
  },
  {
   "cell_type": "markdown",
   "metadata": {},
   "source": [
    " * Combination $L_1$ and $L_2$ Regularization\n",
    " \n",
    " $p(\\theta) = \\lambda_1 \\sum_{i=1}^{m}|\\theta_i| + \\lambda_2 \\sum_{i=1}^{m}\\theta_i^2$"
   ]
  },
  {
   "cell_type": "code",
   "execution_count": 92,
   "metadata": {
    "ExecuteTime": {
     "end_time": "2018-01-26T16:10:35.512042Z",
     "start_time": "2018-01-26T16:10:35.103642Z"
    }
   },
   "outputs": [
    {
     "name": "stderr",
     "output_type": "stream",
     "text": [
      "/home/maljovec/.local/lib/python3.5/site-packages/sklearn/linear_model/coordinate_descent.py:491: ConvergenceWarning: Objective did not converge. You might want to increase the number of iterations. Fitting data with very small alpha may cause precision problems.\n",
      "  ConvergenceWarning)\n"
     ]
    },
    {
     "data": {
      "text/plain": [
       "(-10, 10)"
      ]
     },
     "execution_count": 92,
     "metadata": {},
     "output_type": "execute_result"
    },
    {
     "data": {
      "image/png": "[encoded data removed]",
      "text/plain": [
       "<matplotlib.figure.Figure at 0x7f5ec7bea6a0>"
      ]
     },
     "metadata": {},
     "output_type": "display_data"
    }
   ],
   "source": [
    "from sklearn.linear_model import ElasticNet\n",
    "degree = 25\n",
    "model = make_pipeline(PolynomialFeatures(degree), ElasticNet())\n",
    "model.fit(train_X, train_y)\n",
    "y = model.predict(X)\n",
    "plt.scatter(train_X, train_y, color='navy', s=30, marker='o', label=\"training data\")\n",
    "plt.plot(X, y, color='firebrick', linewidth=lw, label=\"degree %d\" % degree)\n",
    "plt.gca().set_ylim(-10,10)"
   ]
  },
  {
   "cell_type": "markdown",
   "metadata": {
    "ExecuteTime": {
     "end_time": "2018-01-26T07:45:08.848736Z",
     "start_time": "2018-01-26T07:45:08.844618Z"
    }
   },
   "source": [
    "## Logistic Regression"
   ]
  },
  {
   "cell_type": "markdown",
   "metadata": {},
   "source": [
    "We then formulate our problem such that we are using the sigmoid function to determine the probability that an input resides in a particular class of data. With multiple classes this turns into a \"one-vs.-rest\" scheme, thus if there are $k$ classes, there are $k$ instances of logistics regression. The highest prediction is taken as the class for that data point."
   ]
  },
  {
   "cell_type": "markdown",
   "metadata": {
    "ExecuteTime": {
     "end_time": "2018-01-26T19:07:57.428296Z",
     "start_time": "2018-01-26T19:07:57.422938Z"
    }
   },
   "source": [
    "\\begin{align}\n",
    "h_\\theta(x) & = g(\\theta^Tx) \\\\\n",
    "z & = \\theta^Tx \\\\\n",
    "g(z) & = \\frac{1}{1+e^{-z}}\\\\ \n",
    "\\end{align}"
   ]
  },
  {
   "cell_type": "code",
   "execution_count": 307,
   "metadata": {
    "ExecuteTime": {
     "end_time": "2018-01-26T18:23:18.969129Z",
     "start_time": "2018-01-26T18:23:18.783200Z"
    }
   },
   "outputs": [
    {
     "data": {
      "text/plain": [
       "[<matplotlib.lines.Line2D at 0x7f5ec5f02208>]"
      ]
     },
     "execution_count": 307,
     "metadata": {},
     "output_type": "execute_result"
    },
    {
     "data": {
      "image/png": "[encoded data removed]",
      "text/plain": [
       "<matplotlib.figure.Figure at 0x7f5ec6d6f6a0>"
      ]
     },
     "metadata": {},
     "output_type": "display_data"
    }
   ],
   "source": [
    "def sigmoid(x):\n",
    "  return 1. / (1 + np.exp(-x))\n",
    "\n",
    "xx = np.linspace(-10,10,100)\n",
    "plt.plot(xx, sigmoid(xx))"
   ]
  },
  {
   "cell_type": "markdown",
   "metadata": {},
   "source": [
    "We use the sigmoid function to take the discrete output and make it differentiable."
   ]
  },
  {
   "cell_type": "markdown",
   "metadata": {},
   "source": [
    "Our $y$ values are discrete (0 or 1). How do we define a cost function for this?\n",
    "\n",
    "Existing cost function:\n",
    "\n",
    "$J(\\theta) = \\sum_{i=1}^{m}(h_{\\theta}(x_i) - y_i)^2$\n",
    "\n",
    "This will not work as it produces a non-convex $J$.\n",
    "\n",
    "So, we need a convex cost function that has the following properties:\n",
    " * When the correct classification is 1, then a zero cost should be assigned to a value of $h(x)$ = 1\n",
    " * When the correct classification is 1, then a maximal cost should be assigned to a value of $h(x)$ = 0\n",
    " * When the correct classification is 0, then a zero cost should be assigned to a value of $h(x)$ = 0\n",
    " * When the correct classification is 0, then a maximal cost should be assigned to a value of $h(x)$ = 1\n",
    " \n",
    " Thus, we end up with:\n",
    "\n",
    "$\\text{Cost}(h_\\theta(x), y) = $\n",
    "\\begin{cases}\n",
    "    -\\log(h_\\theta(x)), & \\text{if } y = 1\\\\\n",
    "    -\\log(1 - h_\\theta(x)), &  \\text{if } y = 0\n",
    "\\end{cases}\n",
    "\n",
    "We can do this more compactly by using the fact that y is discrete:\n",
    "\n",
    "$\\text{Cost}(h, y) = -y\\log(h - (1-y)\\log(1 - h)$\n",
    "\n",
    "\n",
    "This simplifies the gradient needed for gradient descent:\n",
    "\n",
    "$\n",
    "\\frac{d}{d \\theta}J(\\theta) = \\frac{1}{m} \\left(-y^Tlog(h) - (1-y)^Tlog(1-h))\\right) \n",
    "$"
   ]
  },
  {
   "cell_type": "markdown",
   "metadata": {
    "ExecuteTime": {
     "end_time": "2018-01-26T08:09:20.651339Z",
     "start_time": "2018-01-26T08:09:20.648673Z"
    }
   },
   "source": [
    "### Regularized Logistic Regression"
   ]
  },
  {
   "cell_type": "code",
   "execution_count": null,
   "metadata": {},
   "outputs": [],
   "source": []
  }
 ],
 "metadata": {
  "kernelspec": {
   "display_name": "Python 3",
   "language": "python",
   "name": "python3"
  },
  "language_info": {
   "codemirror_mode": {
    "name": "ipython",
    "version": 3
   },
   "file_extension": ".py",
   "mimetype": "text/x-python",
   "name": "python",
   "nbconvert_exporter": "python",
   "pygments_lexer": "ipython3",
   "version": "3.5.2"
  }
 },
 "nbformat": 4,
 "nbformat_minor": 2
}
